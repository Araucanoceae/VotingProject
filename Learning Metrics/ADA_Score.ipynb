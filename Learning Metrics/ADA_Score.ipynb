{
 "cells": [
  {
   "cell_type": "code",
   "execution_count": 5,
   "id": "dcb6a057-1093-4a18-a38b-e96c562bf961",
   "metadata": {},
   "outputs": [
    {
     "name": "stdout",
     "output_type": "stream",
     "text": [
      "Requirement already satisfied: PyPDF2 in /Library/Frameworks/Python.framework/Versions/3.11/lib/python3.11/site-packages (1.23)\n",
      "Note: you may need to restart the kernel to use updated packages.\n"
     ]
    }
   ],
   "source": [
    "pip install PyPDF2"
   ]
  },
  {
   "cell_type": "code",
   "execution_count": 37,
   "id": "a2dad0de-1617-4bb0-9ce4-9c245fc439de",
   "metadata": {},
   "outputs": [
    {
     "data": {
      "text/plain": [
       "'AS ASDASD ASDAD '"
      ]
     },
     "execution_count": 37,
     "metadata": {},
     "output_type": "execute_result"
    }
   ],
   "source": [
    "lada = 'as asdasd asdad '\n",
    "lada = lada.upper()\n",
    "lada"
   ]
  },
  {
   "cell_type": "code",
   "execution_count": 39,
   "id": "379fee33",
   "metadata": {},
   "outputs": [
    {
     "data": {
      "text/plain": [
       "False"
      ]
     },
     "execution_count": 39,
     "metadata": {},
     "output_type": "execute_result"
    }
   ],
   "source": [
    "\" R \" in \" RD\"\n"
   ]
  },
  {
   "cell_type": "code",
   "execution_count": null,
   "id": "a0f79c78",
   "metadata": {},
   "outputs": [],
   "source": []
  }
 ],
 "metadata": {
  "kernelspec": {
   "display_name": "Python 3 (ipykernel)",
   "language": "python",
   "name": "python3"
  },
  "language_info": {
   "codemirror_mode": {
    "name": "ipython",
    "version": 3
   },
   "file_extension": ".py",
   "mimetype": "text/x-python",
   "name": "python",
   "nbconvert_exporter": "python",
   "pygments_lexer": "ipython3",
   "version": "3.11.4"
  }
 },
 "nbformat": 4,
 "nbformat_minor": 5
}
