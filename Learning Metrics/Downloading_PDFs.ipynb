{
 "cells": [
  {
   "cell_type": "code",
   "execution_count": null,
   "id": "6edbe4c1",
   "metadata": {},
   "outputs": [
    {
     "name": "stdout",
     "output_type": "stream",
     "text": [
      "Failed to download 2009.pdf from https://adaction.org/wp-content/uploads//2017/01/2009.pdf. Status code: 404\n",
      "Failed to download 2010.pdf from https://adaction.org/wp-content/uploads//2017/01/2010.pdf. Status code: 404\n",
      "Failed to download 2011.pdf from https://adaction.org/wp-content/uploads//2017/01/2011.pdf. Status code: 404\n",
      "Failed to download 2012.pdf from https://adaction.org/wp-content/uploads//2017/01/2012.pdf. Status code: 404\n",
      "Failed to download 2013.pdf from https://adaction.org/wp-content/uploads//2017/01/2013.pdf. Status code: 404\n",
      "Failed to download 2014.pdf from https://adaction.org/wp-content/uploads//2017/01/2014.pdf. Status code: 404\n",
      "Failed to download 2015.pdf from https://adaction.org/wp-content/uploads//2017/01/2015.pdf. Status code: 404\n",
      "Failed to download 2016.pdf from https://adaction.org/wp-content/uploads//2017/01/2016.pdf. Status code: 404\n",
      "Failed to download 2017.pdf from https://adaction.org/wp-content/uploads//2017/01/2017.pdf. Status code: 404\n",
      "Failed to download 2018.pdf from https://adaction.org/wp-content/uploads//2017/01/2018.pdf. Status code: 404\n",
      "Failed to download 2019.pdf from https://adaction.org/wp-content/uploads//2017/01/2019.pdf. Status code: 404\n",
      "Failed to download 2020.pdf from https://adaction.org/wp-content/uploads//2017/01/2020.pdf. Status code: 404\n",
      "Failed to download 2021.pdf from https://adaction.org/wp-content/uploads//2017/01/2021.pdf. Status code: 404\n",
      "Failed to download 2022.pdf from https://adaction.org/wp-content/uploads//2017/01/2022.pdf. Status code: 404\n",
      "Failed to download 2009.pdf from https://adaction.org/wp-content/uploads//2017/02/2009.pdf. Status code: 404\n",
      "Failed to download 2010.pdf from https://adaction.org/wp-content/uploads//2017/02/2010.pdf. Status code: 404\n",
      "Failed to download 2011.pdf from https://adaction.org/wp-content/uploads//2017/02/2011.pdf. Status code: 404\n",
      "Failed to download 2012.pdf from https://adaction.org/wp-content/uploads//2017/02/2012.pdf. Status code: 404\n",
      "Failed to download 2013.pdf from https://adaction.org/wp-content/uploads//2017/02/2013.pdf. Status code: 404\n",
      "Failed to download 2014.pdf from https://adaction.org/wp-content/uploads//2017/02/2014.pdf. Status code: 404\n",
      "Failed to download 2015.pdf from https://adaction.org/wp-content/uploads//2017/02/2015.pdf. Status code: 404\n",
      "Failed to download 2016.pdf from https://adaction.org/wp-content/uploads//2017/02/2016.pdf. Status code: 404\n",
      "Failed to download 2017.pdf from https://adaction.org/wp-content/uploads//2017/02/2017.pdf. Status code: 404\n",
      "Failed to download 2018.pdf from https://adaction.org/wp-content/uploads//2017/02/2018.pdf. Status code: 404\n",
      "Failed to download 2019.pdf from https://adaction.org/wp-content/uploads//2017/02/2019.pdf. Status code: 404\n",
      "Failed to download 2020.pdf from https://adaction.org/wp-content/uploads//2017/02/2020.pdf. Status code: 404\n",
      "Failed to download 2021.pdf from https://adaction.org/wp-content/uploads//2017/02/2021.pdf. Status code: 404\n",
      "Failed to download 2022.pdf from https://adaction.org/wp-content/uploads//2017/02/2022.pdf. Status code: 404\n",
      "Failed to download 2009.pdf from https://adaction.org/wp-content/uploads//2017/03/2009.pdf. Status code: 404\n",
      "Failed to download 2010.pdf from https://adaction.org/wp-content/uploads//2017/03/2010.pdf. Status code: 404\n",
      "Failed to download 2011.pdf from https://adaction.org/wp-content/uploads//2017/03/2011.pdf. Status code: 404\n",
      "Failed to download 2012.pdf from https://adaction.org/wp-content/uploads//2017/03/2012.pdf. Status code: 404\n",
      "Failed to download 2013.pdf from https://adaction.org/wp-content/uploads//2017/03/2013.pdf. Status code: 404\n",
      "Failed to download 2014.pdf from https://adaction.org/wp-content/uploads//2017/03/2014.pdf. Status code: 404\n",
      "Failed to download 2015.pdf from https://adaction.org/wp-content/uploads//2017/03/2015.pdf. Status code: 404\n",
      "Failed to download 2016.pdf from https://adaction.org/wp-content/uploads//2017/03/2016.pdf. Status code: 404\n",
      "Failed to download 2017.pdf from https://adaction.org/wp-content/uploads//2017/03/2017.pdf. Status code: 404\n",
      "Failed to download 2018.pdf from https://adaction.org/wp-content/uploads//2017/03/2018.pdf. Status code: 404\n",
      "Failed to download 2019.pdf from https://adaction.org/wp-content/uploads//2017/03/2019.pdf. Status code: 404\n",
      "Failed to download 2020.pdf from https://adaction.org/wp-content/uploads//2017/03/2020.pdf. Status code: 404\n",
      "Failed to download 2021.pdf from https://adaction.org/wp-content/uploads//2017/03/2021.pdf. Status code: 404\n"
     ]
    }
   ],
   "source": [
    "import requests\n",
    "import os\n",
    "\n",
    "base_url = \"https://adaction.org/wp-content/uploads/\"\n",
    "years_first_part = range(2017, 2023)  # From 2017 to 2022\n",
    "months = range(1, 13)  # From 1 to 12\n",
    "years_last_part = range(2009, 2023)  # From 2010 to 2022\n",
    "\n",
    "# Create a directory to store the downloaded PDFs\n",
    "os.makedirs(\"downloaded_pdfs\", exist_ok=True)\n",
    "\n",
    "for year1 in years_first_part:\n",
    "    for month in months:\n",
    "        for year2 in years_last_part:\n",
    "            pdf_url = f\"{base_url}/{year1}/{month:02}/{year2}.pdf\"\n",
    "            response = requests.get(pdf_url)\n",
    "            \n",
    "            # Check if the request was successful\n",
    "            if response.status_code == 200:\n",
    "                with open(f\"downloaded_pdfs/{year2}.pdf\", \"wb\") as pdf_file:\n",
    "                    pdf_file.write(response.content)\n",
    "                print(f\"Downloaded {year2}.pdf successfully!\")\n",
    "            else:\n",
    "                print(f\"Failed to download {year2}.pdf from {pdf_url}. Status code: {response.status_code}\")\n",
    "\n",
    "print(\"Download process completed!\")"
   ]
  }
 ],
 "metadata": {
  "kernelspec": {
   "display_name": "Python 3 (ipykernel)",
   "language": "python",
   "name": "python3"
  },
  "language_info": {
   "codemirror_mode": {
    "name": "ipython",
    "version": 3
   },
   "file_extension": ".py",
   "mimetype": "text/x-python",
   "name": "python",
   "nbconvert_exporter": "python",
   "pygments_lexer": "ipython3",
   "version": "3.11.4"
  }
 },
 "nbformat": 4,
 "nbformat_minor": 5
}
